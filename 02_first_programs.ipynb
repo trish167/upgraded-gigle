{
 "cells": [
  {
   "cell_type": "markdown",
   "id": "671c2c7630933fc1",
   "metadata": {},
   "source": [
    "# Computer Programming"
   ]
  },
  {
   "cell_type": "markdown",
   "id": "dd96399124debccd",
   "metadata": {},
   "source": [
    "## Programs 1: The First Programs\n",
    "\n",
    "These programs will introduce you to some simple, but important, concepts in programming. Most only require a few lines of code, but they will introduce you to the basic concepts of input and output, and how to use variables in a program.\n",
    "\n",
    "At this point we are only concerned with the _Happy Path_ of programming, where everything works as expected. We will not yet consider what happens if the user does not enter the expected input, or if the program encounters an error. So always assume that your user will enter the correct input, and that your program should then run without any errors. (This is a rather big assumption, but let's\n",
    "run with it for now)."
   ]
  },
  {
   "cell_type": "markdown",
   "id": "21e3f8878cbad7fb",
   "metadata": {},
   "source": [
    "Once you have finished, remember to `add` and `commit` your new file to your Git repository, and then `push` it to GitHub. As a reminder, enter below here the Git commands that you will need to do this. (These commands should also be in your previous notebooks.)\n",
    "\n",
    "_Note: You will probably find that your IDE has some point-and-click way to do this. Feel free to use it, but you're on your own there._"
   ]
  },
  {
   "cell_type": "markdown",
   "id": "651b2ec1950e48a6",
   "metadata": {},
   "source": [
    "```bash\n",
    "$ git add my_excellent_notebook.ipynb\n",
    "$ git commit -m \"Add first programs\"\n",
    "$ git push"
   ]
  },
  {
   "cell_type": "markdown",
   "id": "33cba645",
   "metadata": {},
   "source": [
    "## Practice\n",
    "\n",
    "To complete the programs below, you will need two Python `functions` and some basic mathematical operators. Edit each\n",
    "Markdown cell here, and add some examples that answer the questions. If you prefer to add a new cell below each question, that's fine. Up to you."
   ]
  },
  {
   "cell_type": "markdown",
   "id": "9d9b6091",
   "metadata": {},
   "source": [
    "_What is the Python function to display values?_"
   ]
  },
  {
   "cell_type": "markdown",
   "id": "835d95c8",
   "metadata": {},
   "source": [
    "_And what function allows a program to read what the user enters with the keyboard?_\n",
    "\n",
    "_What data type is always returned by this function?_"
   ]
  },
  {
   "cell_type": "markdown",
   "id": "e8ead781",
   "metadata": {},
   "source": [
    "_What functions convert the value entered into numeric values? (There are two.)_"
   ]
  },
  {
   "cell_type": "markdown",
   "id": "088fd0e8",
   "metadata": {},
   "source": [
    "_List the operators (the symbols) that work with numeric values - addition, subtraction, division, modulus, multiplication._"
   ]
  },
  {
   "cell_type": "markdown",
   "id": "c9e52021",
   "metadata": {},
   "source": [
    "_Where operators are combined in a sequence (for example as in `2 + 3 * 2`), in what order are they applied?_"
   ]
  },
  {
   "cell_type": "markdown",
   "id": "703cb88c",
   "metadata": {},
   "source": [
    "_There are many ways of combining numbers and strings in some output. The neatest is an `f-string`. Make a code block\n",
    "below and add some examples of `f-string`s._\n",
    "\n",
    "_Include an f-string that displays a floating-point number with two decimal places._"
   ]
  },
  {
   "cell_type": "markdown",
   "id": "633b36cd",
   "metadata": {},
   "source": [
    "Remember you can try all these out in the Notebook, or at the Python Interpreter.\n",
    "\n",
    "_Add more examples here if you want. Add anything you want that will help you remember!_"
   ]
  },
  {
   "cell_type": "markdown",
   "id": "e02765c2",
   "metadata": {},
   "source": [
    "## The Programs\n",
    "\n",
    "Now for the complete programs. Work through these one at a time. Remember you can run them from inside the Notebook."
   ]
  },
  {
   "cell_type": "markdown",
   "id": "c1472ef10ed28518",
   "metadata": {},
   "source": [
    "_The first program traditionally consists of a few lines that print a cheery message such as \"Hello, World\" on the screen. In the empty code block below here, enter and run that program. In Python, you need just one line._"
   ]
  },
  {
   "cell_type": "code",
   "execution_count": null,
   "id": "dbec81df0f135935",
   "metadata": {},
   "outputs": [],
   "source": [
    "print('Hello, World!')"
   ]
  },
  {
   "cell_type": "markdown",
   "id": "57f3e625",
   "metadata": {},
   "source": [
    "_Create another code block below here, enter (and run) a program that prints out two separate messages, on two lines._"
   ]
  },
  {
   "cell_type": "markdown",
   "id": "b15027be",
   "metadata": {},
   "source": [
    "## Challenge\n",
    "\n",
    "_Can you work out how to print two messages, **on the same line**? Google it! Add the code in the code block below here._"
   ]
  },
  {
   "cell_type": "code",
   "execution_count": null,
   "id": "41710f68",
   "metadata": {},
   "outputs": [],
   "source": [
    "print('Hello, ', end='')\n",
    "print('World!')"
   ]
  },
  {
   "cell_type": "markdown",
   "id": "174a042c2471267e",
   "metadata": {},
   "source": [
    "_The second program expands on this, and asks the user to enter their name, so that the cheery greeting can be customised. Enter that program below (you may well have seen it recently in a lecture), and run it._\n",
    "\n",
    "_Hint: Use an `f-string`._"
   ]
  },
  {
   "cell_type": "code",
   "execution_count": null,
   "id": "981ec7e21bee3d8e",
   "metadata": {},
   "outputs": [],
   "source": [
    "name = input('Greetings! What is your name? ')\n",
    "print(f'Hello, {name}! It is good to meet you!')"
   ]
  },
  {
   "cell_type": "markdown",
   "id": "54aca11b2a1ca851",
   "metadata": {},
   "source": [
    "_The function used in Python to get `input` from the user always reads a string. If a number value is required, it must be converted - this is usually done as it is read. Add a program below that asks the user for a number (an integer will be best), and then prints the square of that number. (Do not worry that the program might fail if the user does not enter a number.) This can be done in two lines._"
   ]
  },
  {
   "cell_type": "code",
   "execution_count": null,
   "id": "ba5b454142037fa0",
   "metadata": {},
   "outputs": [],
   "source": [
    "number = int(input('Enter a number: '))\n",
    "print(f'The square of {number} is {number * number}.')"
   ]
  },
  {
   "cell_type": "markdown",
   "id": "7527ee71405f4c0c",
   "metadata": {},
   "source": [
    "_The popular game of [Cricket](https://en.wikipedia.org/wiki/Cricket) yields many interesting statistics._\n",
    "\n",
    "_In some matches a team is given a certain number of \"overs\" in which to score runs. Write a program that asks the user to enter the number of runs scored by a team, and the number of overs they have used. It should then display the team's \"run rate\", which is the number of runs scored per over. (Again, do not worry about what happens if the user does not enter a valid number.)_\n",
    "\n",
    "_The result will be a floating point number, so you should format it to two decimal places when displaying it._"
   ]
  },
  {
   "cell_type": "code",
   "execution_count": null,
   "id": "b8a3ff2be1182eae",
   "metadata": {
    "ExecuteTime": {
     "end_time": "2025-06-06T09:12:52.261099Z",
     "start_time": "2025-06-06T09:12:42.761661Z"
    }
   },
   "outputs": [],
   "source": [
    "runs = int(input('How many runs scored? '))\n",
    "overs = int(input('How many overs used? '))\n",
    "\n",
    "print(f'Run rate: {runs / overs:.2f} runs per over.')"
   ]
  },
  {
   "cell_type": "markdown",
   "id": "90b31ad18115e0c",
   "metadata": {},
   "source": [
    "_Another interesting statistic is a batter's average score. This is the number of runs they score, averaged over the number of times they have been out. Sometimes a batter is not out, so this calculation needs three numbers: the number of runs scored, the number of times out (or the total number of times batted), and the number of times not out. Write a program that asks the user for these three numbers, and then displays the average score._\n",
    "\n",
    "_The Happy Path here is that a batter has been out at least once. Otherwise they have no average. As usual, you can ignore this possibility for now, and assume that the user will enter valid numbers._\n",
    "\n",
    "_Again, the result will be a floating point number, so you should format it to two decimal places when displaying it._"
   ]
  },
  {
   "cell_type": "code",
   "execution_count": null,
   "id": "b0a78bf1e55158b3",
   "metadata": {},
   "outputs": [],
   "source": [
    "total_bats = int(input('Total times batted: '))\n",
    "not_outs = int(input('Times not out: '))\n",
    "runs = int(input('Total runs scored: '))\n",
    "\n",
    "average = runs / (total_bats - not_outs)\n",
    "\n",
    "print(f'Average score: {average:.2f} runs.')"
   ]
  },
  {
   "cell_type": "markdown",
   "id": "889f488d",
   "metadata": {},
   "source": [
    "_In a programming course, student receives two marks, both out of 100. The first is for a set of programs, and is worth 60% of the assessment. The second is an exam, worth the remaining 40%._\n",
    "\n",
    "_Add below a program that allows a user to enter these two marks, and displays the student's final grade. You can assume the \"Happy Path\" as usual, but remember that all course results are integers, so you will need to round the result to the nearest integer._\n",
    "\n",
    "_Hint: An easy way to do the rounding is to add 0.5, and take the integer part of the result. An even easier way would\n",
    "be to ask your tutor for a hint about the built-in way to do this!_"
   ]
  },
  {
   "cell_type": "code",
   "execution_count": null,
   "id": "ab4e1d8f",
   "metadata": {},
   "outputs": [],
   "source": [
    "program_mark = int(input('Enter your programming mark: '))\n",
    "exam_mark = int(input('Enter your exam mark: '))\n",
    "\n",
    "final_mark = int((program_mark * 0.4) + (exam_mark * 0.6) + 0.5)\n",
    "print(f'Your final mark is: {final_mark}')"
   ]
  },
  {
   "cell_type": "markdown",
   "id": "deef73b3",
   "metadata": {},
   "source": [
    "_Suppose you need to arrange transport for a group of friends to a party. You need to organise taxis, each of which can take four passengers. Write here a program that takes the number of friends to transport, and displays the number of taxis needed._\n",
    "\n",
    "_Follow the Happy Path as usual. Remember that you cannot book part of a taxi, and that you do not want to leave anyone at home! So you need to round **up**._\n",
    "\n",
    "_Hint: This is quite tricky with basic arithmetic. A Google will take you to some ideas, or you can always ask your tutor!_"
   ]
  },
  {
   "cell_type": "code",
   "execution_count": null,
   "id": "9879264c",
   "metadata": {},
   "outputs": [],
   "source": [
    "from math import ceil\n",
    "\n",
    "number_of_friends = int(input('How many friends to transport? '))\n",
    "\n",
    "number_of_taxis = ceil(number_of_friends / 4)\n",
    "\n",
    "print(f'You need {number_of_taxis} taxi(s) to transport your friends.')"
   ]
  },
  {
   "cell_type": "markdown",
   "id": "b07f293c",
   "metadata": {},
   "source": [
    "_A sweet shop sells three types of chocolate: Frodo Bars at 50p, Twux at 75p, and Snookers at 95p. Write a program that asks the user to enter how many of each bar have been purchased, and then prints out the total price._\n",
    "\n",
    "_The price should be displayed in \"pounds and pence\". Asking for, say, \"150p\" makes no sense!_"
   ]
  },
  {
   "cell_type": "code",
   "execution_count": null,
   "id": "0c8d97b6",
   "metadata": {},
   "outputs": [],
   "source": [
    "frodos = int(input('How many Frodo Bars? '))\n",
    "twuxes = int(input('How many Twux? '))\n",
    "snookers = int(input('How many Snookers? '))\n",
    "\n",
    "total_price = (frodos * 50) + (twuxes * 75) + (snookers * 95)\n",
    "\n",
    "print(f'Total Price: £{total_price / 100:.2f}.')"
   ]
  },
  {
   "cell_type": "markdown",
   "id": "7b789038",
   "metadata": {},
   "source": [
    "## Reflection\n",
    "\n",
    "Before you file these programs away, take a look over them and see what patterns you can spot.\n",
    "\n",
    "Some of the programs are basically the same, just with the scenario changed. That is how programming works - it's about spotting a pattern in a new problem and then applying the solution that you've seen before.\n",
    "\n",
    "Next we'll apply the same ideas, again in different scenarios."
   ]
  }
 ],
 "metadata": {
  "kernelspec": {
   "display_name": "venv",
   "language": "python",
   "name": "python3"
  },
  "language_info": {
   "codemirror_mode": {
    "name": "ipython",
    "version": 3
   },
   "file_extension": ".py",
   "mimetype": "text/x-python",
   "name": "python",
   "nbconvert_exporter": "python",
   "pygments_lexer": "ipython3",
   "version": "3.13.7"
  }
 },
 "nbformat": 4,
 "nbformat_minor": 5
}
