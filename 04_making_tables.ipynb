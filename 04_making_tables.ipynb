{
 "cells": [
  {
   "cell_type": "markdown",
   "id": "05ac9f61",
   "metadata": {},
   "source": [
    "# Computer Programming"
   ]
  },
  {
   "cell_type": "markdown",
   "id": "d73f073b",
   "metadata": {},
   "source": [
    "## Programs 3: Making Tables\n",
    "\n",
    "Last week's programs all had a _linear_ flow; the statements executed in order from top to bottom. You might remember the\n",
    "three elements of a program (it was in the lecture, OK?):\n",
    "* Sequence\n",
    "* Iteration\n",
    "* Selection\n",
    "\n",
    "So last week's programs were all about _Sequence_. This week we will create some programs that use _Iteration_. This is\n",
    "a grand word that basically just means that some statements in the program will be executed more than once or, if you prefer,\n",
    "will be repeated. Specifically, the programs here will generate tables of data.\n",
    "\n",
    "And, as before, we will be following the _Happy Path_, and assuming that the user will enter useful values. Not likely, but it\n",
    "will keep things simple for now!"
   ]
  },
  {
   "cell_type": "markdown",
   "id": "2af192fa",
   "metadata": {},
   "source": [
    "As usual, once finished, make sure this Notebook ends up in your GitHub repo. You should know the commands by now!"
   ]
  },
  {
   "cell_type": "markdown",
   "id": "c041fa17",
   "metadata": {},
   "source": [
    "## Practice\n",
    "\n",
    "Before starting the programs, use the boxes and prompts below to write and test some simple loops. Create a new code block below\n",
    "each Markdown section. Add more if you want."
   ]
  },
  {
   "cell_type": "markdown",
   "id": "93f7721a",
   "metadata": {},
   "source": [
    "_With a `for` loop, print out the integers from 1 to 10, inclusive._"
   ]
  },
  {
   "cell_type": "markdown",
   "id": "f3713620",
   "metadata": {},
   "source": [
    "_With a `while` loop, print out the integers from 1 to 10, inclusive._"
   ]
  },
  {
   "cell_type": "markdown",
   "id": "f25868ec",
   "metadata": {},
   "source": [
    "_Print the integers from 10 to 1, **backwards**, and then the message `Blast Off!`. Do it with a `for` and then a `while`. Which\n",
    "is best?_"
   ]
  },
  {
   "cell_type": "markdown",
   "id": "1134128f",
   "metadata": {},
   "source": [
    "_Using whichever you want, calculate the sum of the integers from 1 to 10 inclusive._"
   ]
  },
  {
   "cell_type": "markdown",
   "id": "c65e9987",
   "metadata": {},
   "source": [
    "_How about the **even** numbers between 2 and 20, inclusive?_"
   ]
  },
  {
   "cell_type": "markdown",
   "id": "5bd8322c",
   "metadata": {},
   "source": [
    "_Print out each character in the string `Elderberry` on a separate line._"
   ]
  },
  {
   "cell_type": "markdown",
   "id": "e5f07675",
   "metadata": {},
   "source": [
    "_Display a prompt to your user (something like `What is your favourite colour? `), and keep doing that until they\n",
    "enter `blue`. Use a different colour if your favourite colour is not blue._"
   ]
  },
  {
   "cell_type": "markdown",
   "id": "8b6010e9",
   "metadata": {},
   "source": [
    "_Read in a string, and print it out reversed._\n",
    "\n",
    "_(OK. This is a trick question. You don't need a loop. Sorry.)_"
   ]
  },
  {
   "cell_type": "markdown",
   "id": "3e8c4a33",
   "metadata": {},
   "source": [
    "## The Programs\n",
    "\n",
    "That's enough. Sorry about the last one.\n",
    "\n",
    "Now to try out these ideas in some programs that actually do something (vaguely) useful."
   ]
  },
  {
   "cell_type": "markdown",
   "id": "d32abbd2",
   "metadata": {},
   "source": [
    "_In the box below, add a program that prompts the user to enter a weight in ounces, and displays the equivalent in grams. (There is no repetition in this one!)_\n",
    "\n",
    "_To save you the Google, there are 28.3495 grams in an ounce._"
   ]
  },
  {
   "cell_type": "code",
   "execution_count": null,
   "id": "b6ded19d",
   "metadata": {},
   "outputs": [],
   "source": []
  },
  {
   "cell_type": "markdown",
   "id": "ad6e5fde",
   "metadata": {},
   "source": [
    "_There are 16 ounces in a pound. Isn't the Imperial system great? Write a program that displays the equivalent grams for every integer value of ounces between 0 and 16 inclusive. Use a `for` loop._"
   ]
  },
  {
   "cell_type": "code",
   "execution_count": null,
   "id": "39819c57",
   "metadata": {},
   "outputs": [],
   "source": []
  },
  {
   "cell_type": "markdown",
   "id": "14fcaa0e",
   "metadata": {},
   "source": [
    "_This is a determinate loop, so a `for` was the right choice. But for comparison, write a version using a `while` loop below._"
   ]
  },
  {
   "cell_type": "code",
   "execution_count": null,
   "id": "ca9c8144",
   "metadata": {},
   "outputs": [],
   "source": []
  },
  {
   "cell_type": "markdown",
   "id": "5a3a708b",
   "metadata": {},
   "source": [
    "_\"Ten Green Bottles\" is a well known (and tedious) children's song. See https://en.wikipedia.org/wiki/Ten_Green_Bottles for the details. Write two programs that print out the lyrics of this song (use digits for the numbers). One version of your program should use a `for`, the other a `while`._"
   ]
  },
  {
   "cell_type": "code",
   "execution_count": null,
   "id": "97b49e1e",
   "metadata": {},
   "outputs": [],
   "source": []
  },
  {
   "cell_type": "code",
   "execution_count": null,
   "id": "51505c4c",
   "metadata": {},
   "outputs": [],
   "source": []
  },
  {
   "cell_type": "markdown",
   "id": "a9b82e49",
   "metadata": {},
   "source": [
    "_When purchasing milk, most people think in terms of pints. But supermarkets usually sell milk in litres. Write a program that\n",
    "displays the number of pints in milk containers of 1, 2, 4, and 8 litres._\n",
    "\n",
    "_Hint: Look closely at the sequence of values. You can use repetition here._"
   ]
  },
  {
   "cell_type": "code",
   "execution_count": null,
   "id": "4d506d3f",
   "metadata": {},
   "outputs": [],
   "source": []
  },
  {
   "cell_type": "markdown",
   "id": "66cbce4b",
   "metadata": {},
   "source": [
    "_Time to draw some shapes. Write a program that prompts the user to enter an integer, and then draws a square made up of `#` characters. The number of characters on each side should be the value the user entered._"
   ]
  },
  {
   "cell_type": "code",
   "execution_count": null,
   "id": "390c7f3b",
   "metadata": {},
   "outputs": [],
   "source": []
  },
  {
   "cell_type": "markdown",
   "id": "36e06057",
   "metadata": {},
   "source": [
    "_Add a different version of the program below that can draw a rectangle. The difference will be that the two sides are not the same, so you will need two values to be entered._"
   ]
  },
  {
   "cell_type": "code",
   "execution_count": null,
   "id": "e9e23784",
   "metadata": {},
   "outputs": [],
   "source": []
  },
  {
   "cell_type": "markdown",
   "id": "4cfa8e17",
   "metadata": {},
   "source": [
    "_Finally, try a triangle. The value to be entered should be the height. The first row will have one `#`, the second two, and so on until the height._"
   ]
  },
  {
   "cell_type": "code",
   "execution_count": null,
   "id": "386f0d87",
   "metadata": {},
   "outputs": [],
   "source": []
  },
  {
   "cell_type": "markdown",
   "id": "8aa985ad",
   "metadata": {},
   "source": [
    "_Last one. Take one of your \"shapes\" programs, and extend so that it keeps running. After displaying a shape it should\n",
    "prompt your user to enter `Y` if they want to see another. Carry on until they don't enter `Y`._\n",
    "\n",
    "_Hint: This is easiest if you also use \"Selection\", but you can get by without. Up to you._"
   ]
  },
  {
   "cell_type": "code",
   "execution_count": null,
   "id": "90cdf29b",
   "metadata": {},
   "outputs": [],
   "source": []
  },
  {
   "cell_type": "markdown",
   "id": "73aead26",
   "metadata": {},
   "source": [
    "## Reflection\n",
    "\n",
    "As usual, before you file these programs away, see what patterns you can spot. Programming is all about recognising patterns,\n",
    "and using them again later. It's called *Abstraction*.\n",
    "\n",
    "If you struggled with any of these, remember that this is what your friendly tutor is for. Feel free to ask them, or indeed to\n",
    "call on your friendly AI assistant."
   ]
  }
 ],
 "metadata": {
  "kernelspec": {
   "display_name": "venv",
   "language": "python",
   "name": "python3"
  },
  "language_info": {
   "codemirror_mode": {
    "name": "ipython",
    "version": 3
   },
   "file_extension": ".py",
   "mimetype": "text/x-python",
   "name": "python",
   "nbconvert_exporter": "python",
   "pygments_lexer": "ipython3",
   "version": "3.13.7"
  }
 },
 "nbformat": 4,
 "nbformat_minor": 5
}
