{
 "cells": [
  {
   "cell_type": "markdown",
   "id": "671c2c7630933fc1",
   "metadata": {},
   "source": [
    "# Computer Programming"
   ]
  },
  {
   "cell_type": "markdown",
   "id": "dd96399124debccd",
   "metadata": {},
   "source": [
    "## Programs 2: Getting it Right\n",
    "\n",
    "These programs build on the previos notebook, and provide more practice.\n",
    "\n",
    "Remember that we are only concerned with the \"Happy Path\" at the moment. As you work through these examples, keep in mind that \"programs are read much more often than they are written\". So, have you chosen good names for your values? Have you left blank lines to show layout? If it comes to that, have you provided prompts that make it obvious what the user should do?"
   ]
  },
  {
   "cell_type": "markdown",
   "id": "21e3f8878cbad7fb",
   "metadata": {},
   "source": [
    "Once you have finished, remember to `add` and `commit` your new file to your Git repository, and then `push` it to GitHub."
   ]
  },
  {
   "cell_type": "markdown",
   "id": "33cba645",
   "metadata": {},
   "source": [
    "## Practice\n",
    "\n",
    "First here are some questions to check your knowledge. If you don't know, you can Google, ask the person sat next to you, or even ask your friendly tutor. Edit the Markdown as usual (or insert new cells if you prefer - up to you)."
   ]
  },
  {
   "cell_type": "markdown",
   "id": "6dd331926c243bf1",
   "metadata": {},
   "source": [
    "_Values in Python should usually be named in \"lower snake case\". What does this mean? Include some examples._"
   ]
  },
  {
   "cell_type": "markdown",
   "id": "b721fa96f71c911b",
   "metadata": {},
   "source": [
    "_But some values will be named in \"SCREAMING SNAKE CASE\". Really. That's what it's called. What does this tell us about the value?_"
   ]
  },
  {
   "cell_type": "markdown",
   "id": "9de0bb98e4250ae5",
   "metadata": {},
   "source": [
    "_Jot down three, or four, factors that should be considered when choosing a name for a value._"
   ]
  },
  {
   "cell_type": "markdown",
   "id": "9d9b6091",
   "metadata": {},
   "source": [
    "_Should you add a space before the bracket after a `print` command? Why?_"
   ]
  },
  {
   "cell_type": "markdown",
   "id": "835d95c8",
   "metadata": {},
   "source": [
    "_What about spaces around an expression? `2 + 2` or `2+2`?_"
   ]
  },
  {
   "cell_type": "markdown",
   "id": "e8ead781",
   "metadata": {},
   "source": [
    "_What purpose does a blank line serve in a Python program?_"
   ]
  },
  {
   "cell_type": "markdown",
   "id": "088fd0e8",
   "metadata": {},
   "source": [
    "_What should be on the last line of every Python program?_"
   ]
  },
  {
   "cell_type": "markdown",
   "id": "c9e52021",
   "metadata": {},
   "source": [
    "_What is a program comment? Why are these almost always best avoided?_"
   ]
  },
  {
   "cell_type": "markdown",
   "id": "703cb88c",
   "metadata": {},
   "source": [
    "_Python programmers often refer to `PEP-8`, a much revered document. What is it? (Google is your friend here.)_"
   ]
  },
  {
   "cell_type": "markdown",
   "id": "633b36cd",
   "metadata": {},
   "source": [
    "_Suppose you write a program, and the person sat next to you writes the same program. Assuming both work, would they be exactly the same? Why (not)?_"
   ]
  },
  {
   "cell_type": "markdown",
   "id": "d842e63b0352faef",
   "metadata": {},
   "source": [
    "_AI-generated program code is very easy to spot. Can you work out any features it might have that makes this so?_"
   ]
  },
  {
   "cell_type": "markdown",
   "id": "1fda1561a2033443",
   "metadata": {},
   "source": [
    "As usual, feel free to add any other notes here that you might find useful."
   ]
  },
  {
   "cell_type": "markdown",
   "id": "e02765c2",
   "metadata": {},
   "source": [
    "## The Programs\n",
    "\n",
    "Now for the complete programs. Work through these one at a time. Remember you can run them from inside the Notebook."
   ]
  },
  {
   "cell_type": "markdown",
   "id": "c1472ef10ed28518",
   "metadata": {},
   "source": [
    "_Suppose you purchase a 10 inch pizza. How many square *centimetres* of pizza do you have? Write a program below to find out. Remember that 10 inches is the diameter of the pizza._"
   ]
  },
  {
   "cell_type": "code",
   "execution_count": null,
   "id": "dbec81df0f135935",
   "metadata": {
    "ExecuteTime": {
     "end_time": "2025-08-18T14:08:53.484990Z",
     "start_time": "2025-08-18T14:08:53.481998Z"
    }
   },
   "outputs": [],
   "source": []
  },
  {
   "cell_type": "markdown",
   "id": "57f3e625",
   "metadata": {},
   "source": [
    "_A 10 inch pizza costs £10.99. A 12 inch pizza costs £13.99. Which is the best buy in terms of pizza area for your pound? Write a program\n",
    "that prompts for the size and cost, and prints the cost per square cm._\n",
    "\n",
    "_Hint: It is probably easier to work in pence per square cm. Even then, the answers will be small numbers._"
   ]
  },
  {
   "cell_type": "code",
   "execution_count": null,
   "id": "4d9bd28a527b9a9d",
   "metadata": {
    "ExecuteTime": {
     "end_time": "2025-08-18T14:20:43.199065Z",
     "start_time": "2025-08-18T14:20:35.696843Z"
    }
   },
   "outputs": [],
   "source": []
  },
  {
   "cell_type": "markdown",
   "id": "174a042c2471267e",
   "metadata": {},
   "source": [
    "_Write a program where your user enters two integers, which represent weight measurements taken on two different days. Output the difference between the two numbers. The difference can obviously not be a negative number!_"
   ]
  },
  {
   "cell_type": "code",
   "execution_count": null,
   "id": "981ec7e21bee3d8e",
   "metadata": {
    "ExecuteTime": {
     "end_time": "2025-08-18T14:26:24.322892Z",
     "start_time": "2025-08-18T14:26:17.856623Z"
    }
   },
   "outputs": [],
   "source": []
  },
  {
   "cell_type": "markdown",
   "id": "54aca11b2a1ca851",
   "metadata": {},
   "source": [
    "_The program you just wrote will fail if floating-point numbers are used. This is actually much more likely. Write a version below that\n",
    "works for floating-point values._"
   ]
  },
  {
   "cell_type": "code",
   "execution_count": null,
   "id": "ba5b454142037fa0",
   "metadata": {
    "ExecuteTime": {
     "end_time": "2025-08-18T14:27:23.812218Z",
     "start_time": "2025-08-18T14:27:17.121610Z"
    }
   },
   "outputs": [],
   "source": []
  },
  {
   "cell_type": "markdown",
   "id": "7527ee71405f4c0c",
   "metadata": {},
   "source": [
    "_Suppose the values in your last program were not weights, but the number of sparrows visiting a bird table on two consecutive days. What would you need to change? Write that program below. (You can only have whole numbers of sparrows, obviously.)_"
   ]
  },
  {
   "cell_type": "code",
   "execution_count": null,
   "id": "b8a3ff2be1182eae",
   "metadata": {
    "ExecuteTime": {
     "end_time": "2025-06-06T09:12:52.261099Z",
     "start_time": "2025-06-06T09:12:42.761661Z"
    }
   },
   "outputs": [],
   "source": []
  },
  {
   "cell_type": "markdown",
   "id": "90b31ad18115e0c",
   "metadata": {},
   "source": [
    "_When packing kiwi fruit, the **usual number** to put in a punnet is four. Write a program that prompts for the number of kiwi fruit to be packed, and displays the number of full punnets that will result._\n",
    "\n",
    "_Remember that the number of fruits in a punnet might change, so be sure to make that as easy as possible to change._"
   ]
  },
  {
   "cell_type": "code",
   "execution_count": null,
   "id": "b0a78bf1e55158b3",
   "metadata": {
    "ExecuteTime": {
     "end_time": "2025-08-18T14:33:34.300834Z",
     "start_time": "2025-08-18T14:33:28.554308Z"
    }
   },
   "outputs": [],
   "source": []
  },
  {
   "cell_type": "markdown",
   "id": "889f488d",
   "metadata": {},
   "source": [
    "_Peaches, on the other hand, are packed into boxes of 24 fruit. Any remaining after this are packed into smaller punnets of 4. Adapt the program above to handle peaches, and this more complex packing strategy._"
   ]
  },
  {
   "cell_type": "code",
   "execution_count": null,
   "id": "ab4e1d8f",
   "metadata": {
    "ExecuteTime": {
     "end_time": "2025-08-18T14:39:41.795836Z",
     "start_time": "2025-08-18T14:39:26.227757Z"
    }
   },
   "outputs": [],
   "source": []
  },
  {
   "cell_type": "markdown",
   "id": "deef73b3",
   "metadata": {},
   "source": [
    "_How about a program to check your working? Write a program that prompts for the number of full boxes and full punnets of peaches, and displays how many peaches this is._\n",
    "\n",
    "_Hint: Look at your result. Is it as clear as it could be? Never be afraid to write extra code to \"spell it out\" so that a future programmer can easily understand the code._"
   ]
  },
  {
   "cell_type": "code",
   "execution_count": null,
   "id": "9879264c",
   "metadata": {},
   "outputs": [],
   "source": []
  },
  {
   "cell_type": "markdown",
   "id": "b07f293c",
   "metadata": {},
   "source": [
    "_The final program last week ran like this. For a laugh, write a version below that is as obscure as possible. Break the rules. Make\n",
    "is **really** difficult to follow._\n",
    "\n",
    "_A sweet shop sells three types of chocolate: Frodo Bars at 50p, Twux at 75p, and Snookers at 95p. Write a program that asks the user to enter how many of each bar have been purchased, and then prints out the total price._\n",
    "\n",
    "_The price should be displayed in \"pounds and pence\". Asking for, say, \"150p\" makes no sense!_"
   ]
  },
  {
   "cell_type": "code",
   "execution_count": null,
   "id": "0c8d97b6",
   "metadata": {
    "ExecuteTime": {
     "end_time": "2025-08-18T14:51:13.186974Z",
     "start_time": "2025-08-18T14:51:04.416082Z"
    }
   },
   "outputs": [],
   "source": []
  },
  {
   "cell_type": "markdown",
   "id": "7b789038",
   "metadata": {},
   "source": [
    "## Reflection\n",
    "\n",
    "Take a look at your last effort, and never, ever do that again!\n"
   ]
  },
  {
   "cell_type": "markdown",
   "id": "a29d826f3b4d7b9f",
   "metadata": {},
   "source": [
    "All the programs in the \"library\" in your module repo have been formatted using a tool called ``black`` (https://pypi.org/project/black/). Have a read of its docs, and you should see what such things are needed. And take a look at PEP-8 (https://peps.python.org/pep-0008/) too."
   ]
  }
 ],
 "metadata": {
  "kernelspec": {
   "display_name": "venv",
   "language": "python",
   "name": "python3"
  },
  "language_info": {
   "codemirror_mode": {
    "name": "ipython",
    "version": 3
   },
   "file_extension": ".py",
   "mimetype": "text/x-python",
   "name": "python",
   "nbconvert_exporter": "python",
   "pygments_lexer": "ipython3",
   "version": "3.13.7"
  }
 },
 "nbformat": 4,
 "nbformat_minor": 5
}
