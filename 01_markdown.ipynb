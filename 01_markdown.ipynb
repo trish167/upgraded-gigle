{
 "cells": [
  {
   "cell_type": "markdown",
   "id": "3d1bbd82fee6263",
   "metadata": {},
   "source": [
    "# Computer Programming"
   ]
  },
  {
   "cell_type": "markdown",
   "id": "a30f175d0d1ca35c",
   "metadata": {},
   "source": [
    "## Introduction to Markdown and Jupyter Notebooks\n",
    "\n",
    "The purpose of this notebook is to introduce you to the basics of Markdown and Jupyter Notebooks. Later, you will use notebooks to create programs, but for now, we will focus on how to write text and format it using Markdown.\n",
    "\n",
    "We use Markdown rather than, say, Microsoft Word, for many reasons. First, it is a simple text format, that is easy to read and write, and it can be converted to many other formats, such as HTML, PDF, and even Word. Second, as it is a text format, it is easy to detect changes between versions, and it fits well with being stored in version control, using systems like Git.\n",
    "\n",
    "Other reasons include that Markdown can be written in any text editor, so that we can use whatetever tools we like. Markdown is also very widely used in industry. And, finally, the format is not tied to any specific software vendor, so it is not likely to become obsolete in the near future."
   ]
  },
  {
   "cell_type": "markdown",
   "id": "166f2264335080db",
   "metadata": {},
   "source": [
    "Once you have completed this notebook, remember to `add` and `commit` your new file to your Git repository, and then `push` it to GitHub. Obviously, if you do not finish you can still do this, and then come back to it later. This file will be a Jupyter Notebook (`.ipynb`) so you do need a special tool to edit it. But you will see that you can edit \"vanilla\" Markdown files directly on GitHub."
   ]
  },
  {
   "cell_type": "markdown",
   "id": "b642a52cb563390c",
   "metadata": {},
   "source": [
    "As a reminder (from the recorded \"lectures\"), the runes to add your code to GitHub are as follows. Make sure to get the file name (on the first line) right, as yours may be different. These commands are run from the terminal (PowerShell on Windows, or Terminal on Mac or Linux).\n",
    "\n",
    "```bash\n",
    "$ git add 00_markdown.ipynb\n",
    "$ git commit -m \"Add first programs\"\n",
    "$ git push"
   ]
  },
  {
   "cell_type": "markdown",
   "id": "7ac4eb6b",
   "metadata": {},
   "source": [
    "## Tools to Use\n",
    "\n",
    "You can use any tool that allows you to edit a Jupyter Notebook. In fact, this would be a _really good_ opportunity to experiment and\n",
    "see which you prefer. As a reminder, your choices are:\n",
    "- Jupyter Lab.\n",
    "- Jupyter Notebook.\n",
    "- VS Code.\n",
    "- PyCharm.\n",
    "\n",
    "I tend to recommend VS Code, because it is quicker to get started with and has fewer features that might distract. That is\n",
    "probably what your tutor suggested you use. But it's up to you. It really doesn't matter.\n",
    "\n",
    "Whatever you use, spend some time customising to to your liking. Most people prefer a dark colour scheme, but you might prefer light. You might feel you want a slightly larger text size, or even smaller.\n",
    "\n",
    "_Hint: Both VS Code and PyCharm allow you to store your settings online, so that the same settings apply wherever you \n",
    "open them. Look for \"Settings Sync\". Since you will be working both in University and at home, this will be essential._\n",
    "\n",
    "Details, like all customisations, are just a Google away."
   ]
  },
  {
   "cell_type": "markdown",
   "id": "1b305323",
   "metadata": {},
   "source": [
    "### Saving Settings\n",
    "\n",
    "To save settings in PyCharm, you will need a JetBrains account. This is free. Then you just enable *Settings Sync* and, as long\n",
    "as you are signed in, everything should work.\n",
    "\n",
    "For VS Code, you can sync either to a Microsoft Account or a GitHub account. It's your choice, but GitHub means that you don't\n",
    "have to create and remember a separate account. It also feels \"neater\". Again, this just works. VS Code requires a number of plugins to\n",
    "work with Jupyter Notebooks, so if you do not enable this sync you will have a lot of setup to do every time you visit a lab!"
   ]
  },
  {
   "cell_type": "markdown",
   "id": "95f4cdd2",
   "metadata": {},
   "source": [
    "## Getting Help\n",
    "\n",
    "Markdown is very simple, but if you want a quick reference there are many out there. One of the best is the [Markdown Guide](https://www.markdownguide.org). You might want to start a list of useful links in your GitHub repo (in Markdown, of course), with this as the first entry.\n",
    "\n",
    "As some practice, complete the sections bellow.\n",
    "\n",
    "If you want to record some Markdown so that it is not rendered, you can put back-ticks (`) around it. (The back-tick\n",
    "is usually on the top-left of they keyboard, to the left of number 1!). So you could write:\n",
    "\n",
    "_A chapter heading has a single hash mark before it, like this `# Main Title`._\n",
    "\n",
    "And, of course, you can always click a Markdown section in a Jupyter Notebook to see how the formatting works."
   ]
  },
  {
   "cell_type": "markdown",
   "id": "e5880605085e5b91",
   "metadata": {},
   "source": [
    "## Practice\n",
    "\n",
    "Now complete the following. Remember to get this Notebook into your Module Repo later."
   ]
  },
  {
   "cell_type": "markdown",
   "id": "feb890a8",
   "metadata": {},
   "source": [
    "_In the box below, enter your name as a Level 2 Heading. Then add your course, your group, and the name of your tutor for Programming (ask what they prefer to be called!) as Level 3 Headings._"
   ]
  },
  {
   "cell_type": "markdown",
   "id": "b92c300ea64360cc",
   "metadata": {},
   "source": []
  },
  {
   "cell_type": "markdown",
   "id": "c41f78eb6c650397",
   "metadata": {},
   "source": [
    "_Now write something interesting about today. The weather, maybe. Make sure that you put some text in __bold__ and some in italics (like this text). Maybe even add something ***in bold italics.***_"
   ]
  },
  {
   "cell_type": "markdown",
   "id": "becab5e8c281efa4",
   "metadata": {},
   "source": []
  },
  {
   "cell_type": "markdown",
   "id": "26f060d0c236139",
   "metadata": {},
   "source": [
    "_Add here a Numbered List, and a Bulleted List. Maybe use things you have to do later today, the names of the people sat around you, or just random words!_"
   ]
  },
  {
   "cell_type": "markdown",
   "id": "fa6ae4159cadd699",
   "metadata": {},
   "source": []
  },
  {
   "cell_type": "markdown",
   "id": "6d238c8980ff50f4",
   "metadata": {},
   "source": [
    "_Markdown supports links. So make a Bulleted List of links to sites that might be useful for this module. Add the Module Website, your GitHub repo, the Python docs, and any other sites you think might be useful. Use the link text to describe the site._"
   ]
  },
  {
   "cell_type": "markdown",
   "id": "30aa39495f6a2b0d",
   "metadata": {},
   "source": []
  },
  {
   "cell_type": "markdown",
   "id": "34d70abd6d17cb06",
   "metadata": {},
   "source": [
    "_Part of the Portfolio Assignment is to complete your GitHub profile. Add a link to that below here, so that you can easily find it later. Use the link text \"My GitHub Profile\"._"
   ]
  },
  {
   "cell_type": "markdown",
   "id": "0ba29705",
   "metadata": {},
   "source": []
  },
  {
   "cell_type": "markdown",
   "id": "bbf7da65",
   "metadata": {},
   "source": [
    "## Markdown on GitHub\n",
    "\n",
    "Markdown is the language used for documenation in repos on GitHub. In the last Notebook you should have tinkered with a \n",
    "`README` file. The full name of that file is `README.md` with `md` meaning Markdown. Your IDE will probably give such\n",
    "files an icon with an `M` and a down-arrow.\n",
    "\n",
    "Now we can practice some Markdown on GitHub.\n",
    "\n",
    "**First, make sure you have created your module repo using the link posted on MyBeckett.** Record its URL in the first box below.\n",
    "\n",
    "_Note: This repo is not owned by you. This is so that the Module Team can see with without you having to do anything. (You can see\n",
    "in the URL that it is owned by an account (actually an organisation) called `lbu-focp`). This does mean that you might \"lose\" the \n",
    "URL, so you might want to bookmark it too._"
   ]
  },
  {
   "cell_type": "markdown",
   "id": "17e0285e",
   "metadata": {},
   "source": [
    "### My Module Repo\n",
    "\n",
    "My module repo is:"
   ]
  },
  {
   "cell_type": "markdown",
   "id": "3681b039-7bbe-4184-9596-92623a166c25",
   "metadata": {},
   "source": [
    "_Your module GitHub repo includes a `README.md` file, which is written in Markdown. Head to your repo now, and complete \n",
    "the blanks in this file.\n",
    "(As it is a plain Markdown file you can edit it on GitHub as before, and also commit and publish your changes, all \n",
    "from the browser.)_"
   ]
  },
  {
   "cell_type": "markdown",
   "id": "877ba19a",
   "metadata": {},
   "source": [
    "### Your Notebooks\n",
    "\n",
    "Your module repo also includes a (currently empty) folder called `notebooks`. Make sure that all your completed Notebooks (soon you will have two) end up in there.\n",
    "\n",
    "_Note: If you look, you will see this folder actually has a file called `.gitkeep` in it. This is there because Git ignores empty folders by default, and this is the conventional way to force it to include such a folder. You can delete this file, or leave it alone. It doesn't matter._"
   ]
  },
  {
   "cell_type": "markdown",
   "id": "b970bda0-f35b-4c90-831c-3dde0fa6837c",
   "metadata": {},
   "source": [
    "## Your GitHub Profile\n",
    "\n",
    "_Finally, what could be the tricky part! But this is a part of the assignment. Go to your GitHub account and create a new\n",
    "repo that has _exactly the same name_ as your GitHub username. Make sure it has a `README.md` file (you can ignore other options) and is set to be `public`._\n",
    "\n",
    "_Open this repo, and edit the `README.md` file to include some useful information about yourself. Be careful! This is going to be on public display. If all is well, reload your GitHub profile, and you should see this text at the top. This is the start of your online CV as a programmer._\n",
    "\n",
    "_And, if you haven't already, make sure you complete the rest of the Profile information on GitHub. Include an avatar image (which does not have to be an image of yourself, but will be public)._\n",
    "\n",
    "_Now take a screenshot of your profile, and use Markdown to link it below, as an image. Remember that you will need to upload the image to your GitHub repo._"
   ]
  },
  {
   "cell_type": "markdown",
   "id": "7bbe39eb",
   "metadata": {},
   "source": []
  },
  {
   "cell_type": "markdown",
   "id": "d116028e",
   "metadata": {},
   "source": [
    "_Finish up by adding the commands to upload your changes to your GitHub repo below. Format them so that they are clearly commands (or code)._"
   ]
  },
  {
   "cell_type": "markdown",
   "id": "6d4327a5",
   "metadata": {},
   "source": []
  },
  {
   "cell_type": "markdown",
   "id": "de8a3cc1-8d25-4bd3-9fd7-7c9b7e463602",
   "metadata": {},
   "source": [
    "## The End\n",
    "\n",
    "Markdown can be used to format other content, including tables, program code, and more. But this will do for most things. Remember that part of the purpose of this exercise was for you to get used to the editor that you will use for the rest of the module.\n",
    "\n",
    "Your result is a Jupyter Notebook file (`.ipydb`), formatted in JSON. **Make sure this file (along with any images it references) is safely stored in your GitHub repo.**"
   ]
  }
 ],
 "metadata": {
  "kernelspec": {
   "display_name": "Python 3 (ipykernel)",
   "language": "python",
   "name": "python3"
  },
  "language_info": {
   "codemirror_mode": {
    "name": "ipython",
    "version": 3
   },
   "file_extension": ".py",
   "mimetype": "text/x-python",
   "name": "python",
   "nbconvert_exporter": "python",
   "pygments_lexer": "ipython3",
   "version": "3.13.4"
  }
 },
 "nbformat": 4,
 "nbformat_minor": 5
}
