{
 "cells": [
  {
   "cell_type": "markdown",
   "id": "c4b4dd4b",
   "metadata": {},
   "source": [
    "# Computer Programming"
   ]
  },
  {
   "cell_type": "markdown",
   "id": "17593879",
   "metadata": {},
   "source": [
    "## Introduction to GitHub\n",
    "\n",
    "This short Notebook introduces you to GitHub. [GitHub](https://www.github.com/) is a cloud-based system for storing program code, or _source code_. You will store your work for this module on GitHub, and you will probably use it again in later modules. \n",
    "\n",
    "Gradually you will create an online portfolio of your programming work. Many employers in the Tech Industry think a GitHub portfolio is very, very important. Some think it is more important than a CV."
   ]
  },
  {
   "cell_type": "markdown",
   "id": "c729d7e0",
   "metadata": {},
   "source": [
    "### A GitHub Account\n",
    "\n",
    "To complete this module, you will need an account on GitHub. This will also be used in several future modules that involve programming. This account is free, and you can unlock various useful extras by proving your student status.\n",
    "\n",
    "Head to GitHub (link above), and create an account.\n",
    "\n",
    "**Think carefully about your username, as this is something that might stay with you for a long time. Something including some variation of your own name is a good idea. Using your current student ID number is a bad idea.**\n",
    "\n",
    "Really, think carefully. It is quite likely that in the future a potential employer will ask to see your GitHub, and they may wonder why you think `@c76298393` is a useful and memorable name!\n",
    "\n",
    "It is possible to change your username later, but it can get messy as, for example, your old username will become\n",
    "available for others to use.\n",
    "\n",
    "_Note: If you already have a GitHub account, you can just use that. Or if you prefer, you could create a new one just for Uni work. Your call._\n",
    "\n",
    "Use the space below to note your GitHub account name. (Just click the box below and it will open.)"
   ]
  },
  {
   "cell_type": "markdown",
   "id": "b02f2671",
   "metadata": {},
   "source": [
    "My GitHub Account name is: "
   ]
  },
  {
   "cell_type": "markdown",
   "id": "bc507d23",
   "metadata": {},
   "source": [
    "### GitHub in this Module\n",
    "\n",
    "Over the next weeks you will start to build your portfolio of programs. This module uses _GitHub Classroom_ which is a handy way for your code to be shared between you and your tutor.\n",
    "\n",
    "Your tutor will probably ask you to confirm your GitHub Account name during your practical."
   ]
  },
  {
   "cell_type": "markdown",
   "id": "c644d135",
   "metadata": {},
   "source": [
    "### More GitHub Setup: Authentication\n",
    "\n",
    "Once you have created the account, consider setting up two-factor authentication. This is not required, but it is a good idea to secure your account. Even if you do not, make sure that the password you chose is secure. (You might want to consider using a Password Manager such as [Bitwarden](https://bitwarden.com) for this, and other, passwords.)\n",
    "\n",
    "**DO NOT** record your password here, but make sure you will remember it!\n",
    "\n",
    "_Note: The usual \"secure password\" guidelines (upper case, lower case, symbol, etc) do not actually make passwords any more\n",
    "secure. In fact, they do the opposite (the capital is usually the first letter, for example). Better passwords are three random\n",
    "words (`bicycleoctopuscroissant`, anyone?) or long sequences of random characters held in a password manager._"
   ]
  },
  {
   "cell_type": "markdown",
   "id": "60d87179",
   "metadata": {},
   "source": [
    "### More GitHub Setup: Emails\n",
    "\n",
    "GitHub allows you to associate several emails with an account. This is a _good idea_ in case you lose access to one (and you will lose access to your University email in a few years!). You should add, as a minimum, your University email, and a personal email. Which you decide to set as the primary email is up to you.\n",
    "\n",
    "Every time you send (`push`) some work to GitHub it keeps a record of the email used. You do not need to worry that this is your University email, as long as it is one of the emails on your account.\n",
    "\n",
    "As usual when setting up any account, look out for emails from GitHub seeking to validate your email address.\n",
    "\n",
    "_Note: If you do not have a \"professional looking\" personal email, now is a good time to consider setting one up. It is cheap and easy to set up something like `hello@your_name.com`. If I remember I'll add some notes to MyBeckett._"
   ]
  },
  {
   "cell_type": "markdown",
   "id": "415706d5",
   "metadata": {},
   "source": [
    "## GitHub: Looking Around\n",
    "\n",
    "GitHub is big.\n",
    "\n",
    "GitHub stores *source code*, and you will find the code of many well known projects around the place. The best known \n",
    "might well be the [Linux Kernel Code](https://github.com/torvalds/linux), or if you are a VS Code user, you can find\n",
    "its source code [on GitHub too](https://github.com/microsoft/vscode).\n",
    "\n",
    "Every GitHub user has a profile page. See [Project Jupyter](https://github.com/jupyter) or your [humble Module Leader](https://github.com/TonyJenkins). See how the username forms part of the address of the profile.\n",
    "\n",
    "Project code is stored in *repositories*, usually shortened to *repos*. Your work for this module will end up in a repo\n",
    "that you will share with the module team, and you can create other repos as you like.\n",
    "\n",
    "**Make sure you bookmark the URL of your profile page (even if you just email the URL to yourself).** And record it in the\n",
    "box below."
   ]
  },
  {
   "cell_type": "markdown",
   "id": "43e3e0b9",
   "metadata": {},
   "source": [
    "My GitHub Profile Page is at: "
   ]
  },
  {
   "cell_type": "markdown",
   "id": "23393540",
   "metadata": {},
   "source": [
    "## Making a Repo\n",
    "\n",
    "Let's end by doing some basic GitHub tasks.\n",
    "\n",
    "On GitHub, in the top right, you will find a drop-down to create new things. Find this, and pick *New Repository*.\n",
    "\n",
    "In the new screen, you can leave almost everything as the default. Give the repo a name (or just pick the recommended random\n",
    "name) and tick the box for a README file. The hit `Create repository`.\n",
    "\n",
    "_Note: You can't break it. If you forget the `README` file, just go back and do it again!_\n",
    "\n",
    "To see your repo, head to [GitHub's Home Page](https://github.com). See that this is a *different URL* to your profile (but you will\n",
    "also see the repo there.)"
   ]
  },
  {
   "cell_type": "markdown",
   "id": "d67349f8",
   "metadata": {},
   "source": [
    "## Changing the Repo\n",
    "\n",
    "The `README` file will contain a couple of lines. It's in a language called *Markdown*, which is the next Notebook. But you can make\n",
    "small changes here.\n",
    "\n",
    "Click the `README` file name, and the content will appear. Top right there is an icon that looks not unlike a pencil. Click it, and\n",
    "you're in the editor. Change something - it doesn't matter what.\n",
    "\n",
    "When you've changed something the *Commit changes...* button will become active. Click it, and add a message. Once you've saved,\n",
    "you have made a *commit*. Go to the repo's main page, and you should see the number of commits has increased.\n",
    "\n",
    "Do this a few times so that you have the idea."
   ]
  },
  {
   "cell_type": "markdown",
   "id": "283a73a7",
   "metadata": {},
   "source": [
    "## Onward!\n",
    "\n",
    "Now you need to understand Markdown, which is in the next practical.\n",
    "\n",
    "One final thing. Like a lot of websites, GitHub supports various themes. Have a look under *Settings* and you will be able to pick\n",
    "various light and dark modes. You will probably notice that your tutors have different colour schemes on their GitHub - that is all\n",
    "they are.\n",
    "\n",
    "Right, now to understand what Markdown is all about and how to format that `README` file."
   ]
  }
 ],
 "metadata": {
  "language_info": {
   "name": "python"
  }
 },
 "nbformat": 4,
 "nbformat_minor": 5
}
